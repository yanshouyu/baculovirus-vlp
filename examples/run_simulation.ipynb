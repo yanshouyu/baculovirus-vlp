{
 "cells": [
  {
   "cell_type": "markdown",
   "id": "0",
   "metadata": {},
   "source": [
    "In this notebook I'm going to implement the model based on Hu & Bentley's article published in 2000.\n",
    "\n",
    "This notebook is a proof-of-concept - I'll package the code later."
   ]
  },
  {
   "cell_type": "code",
   "execution_count": null,
   "id": "1",
   "metadata": {},
   "outputs": [],
   "source": [
    "import numpy as np\n",
    "import pandas as pd\n",
    "import scipy.special\n",
    "import matplotlib.pyplot as plt\n",
    "import seaborn as sns"
   ]
  },
  {
   "cell_type": "code",
   "execution_count": null,
   "id": "2",
   "metadata": {},
   "outputs": [],
   "source": [
    "%load_ext autoreload\n",
    "%autoreload 2"
   ]
  },
  {
   "cell_type": "code",
   "execution_count": null,
   "id": "3",
   "metadata": {},
   "outputs": [],
   "source": [
    "from baculovirus_vlp import pinf, jmin_jmax, td, Parameters, Simulation"
   ]
  },
  {
   "cell_type": "markdown",
   "id": "4",
   "metadata": {},
   "source": [
    "# Supproting Methods"
   ]
  },
  {
   "cell_type": "markdown",
   "id": "5",
   "metadata": {},
   "source": [
    "### Infection Probability\n",
    "\n",
    "Poisson distribution of the infection probability:\n",
    "\n",
    "$P(t, j) = \\frac{exp(-dynMOI) \\times dynMOI^j}{j!}$\n",
    "\n",
    "Thus:\n",
    "\n",
    "$ln(P(t,j)) = -dynMOI + j \\cdot ln(dynMOI) - gammaln(j+1)$\n",
    "\n",
    "Note that $dynMOI = \\alpha * (V1(t) / No(t))$\n",
    "\n",
    "Here we'll use the same `pinf` method to calculate newly-infection and re-infection, which only differs in $\\alpha$."
   ]
  },
  {
   "cell_type": "code",
   "execution_count": null,
   "id": "6",
   "metadata": {},
   "outputs": [],
   "source": [
    "pinf(j=5, alpha=0.04, V1=2e6, N=5e5)"
   ]
  },
  {
   "cell_type": "markdown",
   "id": "7",
   "metadata": {},
   "source": [
    "### Upper and Lower Bound of Infecting Virus Number j: $j_{MIN}$ and $j_{MAX}$\n",
    "\n",
    "$j_{MIN}$ and $j_{MAX}$ are determined by dynamic MOI. The rational is to make sure at certain *dynamic MOI* (which is also the $\\lambda$ of Poisson distribution), 99% of the probability is within `[jmin, jmax]`."
   ]
  },
  {
   "cell_type": "code",
   "execution_count": null,
   "id": "8",
   "metadata": {},
   "outputs": [],
   "source": [
    "print(jmin_jmax(alpha=0.04, V1=2e6, N=5e5))\n",
    "print(jmin_jmax(alpha=0.04, V1=2e8, N=5e5))\n",
    "print(jmin_jmax(alpha=0.04, V1=2e10, N=5e5))"
   ]
  },
  {
   "cell_type": "markdown",
   "id": "9",
   "metadata": {},
   "source": [
    "### Infected cell death time cutoff $t_d$\n",
    "\n",
    "Model parameter $t_d$ (time after infection cell viability starts to drop quickly (h)) is a function of initial MOI. This is a property of `Simulation`."
   ]
  },
  {
   "cell_type": "code",
   "execution_count": null,
   "id": "10",
   "metadata": {},
   "outputs": [],
   "source": [
    "print(td(V1=1e6, No=2e6))    # MOI < 1\n",
    "print(td(V1=8e6, No=2e6))    # 1 <= MOI <= 20\n",
    "print(td(V1=5e7, No=2e6))    # MOI > 20"
   ]
  },
  {
   "cell_type": "markdown",
   "id": "11",
   "metadata": {},
   "source": [
    "### Virus Synthesis as a Function of j\n",
    "\n",
    "When calculating virus production, the more virus infecting a cell, the higher the rate of synthesis. But *the existance of viral chromosomes inside the cells increases the metabolic burden*, thus the authors used a logarithmic function to describe the dependence of virus synthesis and j.\n",
    "\n",
    "This is a method of class `Parameters` since its value depends on the maximum number of virus that may affect the virus and protein synthesis ($v_{max}$)."
   ]
  },
  {
   "cell_type": "markdown",
   "id": "12",
   "metadata": {},
   "source": [
    "### Onset Time of Virion (and Protein) Synthesis\n",
    "\n",
    "The onset time of synthesis $\\tau$ has a capped linear relationship with j. The higher the j, the faster the synthesis. $\\tau$ is the time so $\\tau_{high}$ is bigger (slower) than $\\tau_{low}$. This method is also a method of `Parameters`."
   ]
  },
  {
   "cell_type": "markdown",
   "id": "13",
   "metadata": {},
   "source": [
    "# `Parameters` dataclass\n",
    "\n",
    "Use a dataclass to store the parameters used in the model. This way the nomenclature is consistent and clear."
   ]
  },
  {
   "cell_type": "code",
   "execution_count": null,
   "id": "14",
   "metadata": {},
   "outputs": [],
   "source": [
    "params = Parameters()"
   ]
  },
  {
   "cell_type": "code",
   "execution_count": null,
   "id": "15",
   "metadata": {},
   "outputs": [],
   "source": [
    "params.__dict__"
   ]
  },
  {
   "cell_type": "code",
   "execution_count": null,
   "id": "16",
   "metadata": {},
   "outputs": [],
   "source": [
    "params.fj(j=10)"
   ]
  },
  {
   "cell_type": "code",
   "execution_count": null,
   "id": "17",
   "metadata": {},
   "outputs": [],
   "source": [
    "params.tau(j=30)"
   ]
  },
  {
   "cell_type": "markdown",
   "id": "18",
   "metadata": {},
   "source": [
    "# Class `Simulation`\n",
    "\n",
    "Implement the model by a `Simulation` class. \n",
    "\n",
    "Attributes:\n",
    "* `Parameters`\n",
    "* Simulation settings: running time, time frame\n",
    "* Starting conditions: MOI, cell numbers, concentrations\n",
    "* Simulation run results\n",
    "    * Cells: infected, non-infected, dead\n",
    "    * Virus: production, initial-adsorption, re-infection\n",
    "    * Substrate\n",
    "\n",
    "Methods are the steps of updating results in each time frame:\n",
    "* Update substrate\n",
    "* Infection\n",
    "* Update cell death\n",
    "* Re-infection\n",
    "* Virus production"
   ]
  },
  {
   "cell_type": "code",
   "execution_count": null,
   "id": "19",
   "metadata": {},
   "outputs": [],
   "source": [
    "sim = Simulation(\n",
    "    params=params, \n",
    "    MOI=1, \n",
    "    timestep=1, \n",
    "    endtime=10, \n",
    "    No_init=2e6, \n",
    "    S_init=13\n",
    ")"
   ]
  },
  {
   "cell_type": "code",
   "execution_count": null,
   "id": "20",
   "metadata": {},
   "outputs": [],
   "source": [
    "sim"
   ]
  },
  {
   "cell_type": "code",
   "execution_count": null,
   "id": "21",
   "metadata": {},
   "outputs": [],
   "source": [
    "sim.step()"
   ]
  },
  {
   "cell_type": "code",
   "execution_count": null,
   "id": "22",
   "metadata": {},
   "outputs": [],
   "source": [
    "sim.to_df()"
   ]
  },
  {
   "cell_type": "code",
   "execution_count": null,
   "id": "23",
   "metadata": {},
   "outputs": [],
   "source": [
    "sim.run()"
   ]
  },
  {
   "cell_type": "code",
   "execution_count": null,
   "id": "24",
   "metadata": {},
   "outputs": [],
   "source": [
    "sim.to_df()"
   ]
  },
  {
   "cell_type": "code",
   "execution_count": null,
   "id": "25",
   "metadata": {},
   "outputs": [],
   "source": [
    "sim.stats"
   ]
  },
  {
   "cell_type": "markdown",
   "id": "26",
   "metadata": {},
   "source": [
    "# Sanity Test\n",
    "\n",
    "The authors didn't provide experimental data for validation. But we can validate their conclusions:\n",
    "1. (consistent) Fig1b, infection percentage vs. time\n",
    "2. (consistent) Fig2, Baculovirus conc (vIBD-7) vs. time\n",
    "3. (different) Fig3a, max virus yield vs. combination of MOI and ICD (No_init).\n",
    "4. (consistent) Fig4b, viability vs. time.\n",
    "5. (consistent & different) j distribution."
   ]
  },
  {
   "cell_type": "markdown",
   "id": "27",
   "metadata": {},
   "source": [
    "### Infection Percentage vs. Time\n",
    "\n",
    "Infection percentage is calculated as infected cell in total cells. MOIs were 0.1, 1, 10. Starting cell concentration was 1.3e6. The experiment ran for 80 hours."
   ]
  },
  {
   "cell_type": "code",
   "execution_count": null,
   "id": "28",
   "metadata": {},
   "outputs": [],
   "source": [
    "params = Parameters()"
   ]
  },
  {
   "cell_type": "code",
   "execution_count": null,
   "id": "29",
   "metadata": {},
   "outputs": [],
   "source": [
    "sims = dict.fromkeys([0.1, 1, 10])\n",
    "\n",
    "for moi in sims.keys():\n",
    "    sim = Simulation(\n",
    "        params=params, \n",
    "        MOI=moi, \n",
    "        timestep=1, \n",
    "        endtime=100, \n",
    "        No_init=1.3e6, \n",
    "        S_init=13\n",
    "    )\n",
    "    sim.run()\n",
    "    sims[moi] = sim.to_df()"
   ]
  },
  {
   "cell_type": "code",
   "execution_count": null,
   "id": "30",
   "metadata": {},
   "outputs": [],
   "source": [
    "pct_t = pd.DataFrame(data={\n",
    "    moi: (sims[moi][\"Ninf\"] / (sims[moi][\"Ninf\"] + sims[moi][\"No\"]))\n",
    "    for moi in sims.keys()\n",
    "})"
   ]
  },
  {
   "cell_type": "code",
   "execution_count": null,
   "id": "31",
   "metadata": {},
   "outputs": [],
   "source": [
    "plt.plot(pct_t[:80])\n",
    "plt.legend(pct_t.columns)"
   ]
  },
  {
   "cell_type": "markdown",
   "id": "32",
   "metadata": {},
   "source": [
    "This figure is basically the same as fig1b."
   ]
  },
  {
   "cell_type": "markdown",
   "id": "33",
   "metadata": {},
   "source": [
    "### Baculovirus Concentration vs. Time\n",
    "\n",
    "Fig2 has the same simulation settings as fig1."
   ]
  },
  {
   "cell_type": "code",
   "execution_count": null,
   "id": "34",
   "metadata": {},
   "outputs": [],
   "source": [
    "v1_t = pd.DataFrame(data={\n",
    "    moi: sims[moi][\"V1\"] for moi in sims.keys()\n",
    "})\n",
    "fig, axs = plt.subplots(1, 2, figsize=(8, 4))\n",
    "axs[0].plot(v1_t[:30].apply(np.log10))\n",
    "axs[0].legend(v1_t.columns)\n",
    "axs[1].plot(v1_t)\n",
    "axs[1].legend(v1_t.columns)"
   ]
  },
  {
   "cell_type": "markdown",
   "id": "35",
   "metadata": {},
   "source": [
    "The trend and order are the same but the curve shapes are a little different."
   ]
  },
  {
   "cell_type": "markdown",
   "id": "36",
   "metadata": {},
   "source": [
    "### Max virus yield vs. combination of MOI and ICD\n",
    "\n",
    "Fig3a: maximum virus titer predicted at different MOI and infecting cell densities (ICD).\n",
    "\n",
    "* MOIs: 0.1, 1, 5, 10, 20\n",
    "* No_init (10^6 cells/ml): 1.3, 2.2, 3.7, 7.7"
   ]
  },
  {
   "cell_type": "code",
   "execution_count": null,
   "id": "37",
   "metadata": {},
   "outputs": [],
   "source": [
    "max_vir_df = pd.DataFrame(\n",
    "    columns=[\"max_virus_titer\"], \n",
    "    index=pd.MultiIndex.from_product(\n",
    "        [(0.1, 1, 5, 10, 20), (1.3e6, 2.2e6, 3.7e6, 7.7e6)],\n",
    "        names=[\"MOI\", \"ICD\"]\n",
    "    )\n",
    ")\n",
    "for moi in (0.1, 1, 5, 10, 20):\n",
    "    for No_init in (1.3e6, 2.2e6, 3.7e6, 7.7e6):\n",
    "        sim = Simulation(\n",
    "            params=params, \n",
    "            MOI=moi, \n",
    "            timestep=1, \n",
    "            endtime=100, \n",
    "            No_init=No_init, \n",
    "            S_init=13\n",
    "        )\n",
    "        sim.run()\n",
    "        max_vir_df.loc[(moi, No_init), \"max_virus_titer\"] = max(sim.results[\"V1\"])"
   ]
  },
  {
   "cell_type": "markdown",
   "id": "38",
   "metadata": {},
   "source": [
    "Change the max titer unit to 1e8."
   ]
  },
  {
   "cell_type": "code",
   "execution_count": null,
   "id": "39",
   "metadata": {},
   "outputs": [],
   "source": [
    "max_vir_dfplot = max_vir_df.map(lambda v: round(v/1e8, 1)).unstack()"
   ]
  },
  {
   "cell_type": "code",
   "execution_count": null,
   "id": "40",
   "metadata": {},
   "outputs": [],
   "source": [
    "sns.heatmap(\n",
    "    max_vir_dfplot, \n",
    "    annot=True,\n",
    "    xticklabels=max_vir_dfplot.columns.levels[1], \n",
    "    yticklabels=max_vir_dfplot.index,\n",
    "    cmap=\"Blues\"\n",
    ")\n",
    "plt.xlabel(\"ICD\")"
   ]
  },
  {
   "cell_type": "markdown",
   "id": "41",
   "metadata": {},
   "source": [
    "This one is different from fig3a. Especially the ICD=3.7e6 MOI=20 simulation."
   ]
  },
  {
   "cell_type": "markdown",
   "id": "42",
   "metadata": {},
   "source": [
    "### Viability vs. Time\n",
    "\n",
    "Compare simulations with fig4b. The MOIs are 01, 1, 10. ICD is 1.3e6. \n",
    "\n",
    "The authors didn't mention how they simulated viability. I used a rolling sum with sigmoid weights (linear weights also works) on dead cells of each step as the dead cell concentration."
   ]
  },
  {
   "cell_type": "code",
   "execution_count": null,
   "id": "43",
   "metadata": {},
   "outputs": [],
   "source": [
    "sims = dict.fromkeys([0.1, 1, 10])\n",
    "\n",
    "for moi in sims.keys():\n",
    "    sim = Simulation(\n",
    "        params=params, \n",
    "        MOI=moi, \n",
    "        timestep=1, \n",
    "        endtime=100, \n",
    "        No_init=1.3e6, \n",
    "        S_init=13\n",
    "    )\n",
    "    sim.run()\n",
    "    sims[moi] = sim.to_df()"
   ]
  },
  {
   "cell_type": "code",
   "execution_count": null,
   "id": "44",
   "metadata": {},
   "outputs": [],
   "source": [
    "def linear_weights(window_size):\n",
    "    \"\"\"Create linearly increasing weights\"\"\"\n",
    "    ladder = np.arange(1, window_size + 1)\n",
    "    return ladder / window_size\n",
    "\n",
    "def sigmoid_weights(window_size, scale=4):\n",
    "    \"\"\"Using scipy's sigmoid (expit) function\"\"\"\n",
    "    x = np.linspace(-scale, scale, window_size)\n",
    "    weights = scipy.special.expit(x)  # equivalent to 1 / (1 + exp(-x))\n",
    "    return weights\n",
    "\n",
    "def weighted_sum(x, weight_func: callable):\n",
    "    weights = weight_func(len(x))\n",
    "    return np.sum(x * weights)"
   ]
  },
  {
   "cell_type": "code",
   "execution_count": null,
   "id": "45",
   "metadata": {},
   "outputs": [],
   "source": [
    "viab_df = pd.DataFrame(columns=sims.keys())\n",
    "\n",
    "for moi, df in sims.items():\n",
    "    d_conc = (\n",
    "        df.dNd\n",
    "        .rolling(window=100, min_periods=1)\n",
    "        .apply(\n",
    "            weighted_sum, \n",
    "            # args=(linear_weights, )\n",
    "            args=(sigmoid_weights, )\n",
    "        )\n",
    "    )\n",
    "    d_pct = d_conc / (df.No + df.Ninf + d_conc)\n",
    "    viab_df[moi] = 1 - d_pct\n",
    "\n",
    "plt.plot(viab_df)\n",
    "plt.ylim(0, 1)\n",
    "plt.legend(viab_df.columns)"
   ]
  },
  {
   "cell_type": "markdown",
   "id": "46",
   "metadata": {},
   "source": [
    "By tuning the hyperparameters of the dead cell calculation, this figure is quite similar to fig4b. They are still slightly different, especially at later stages (the authors simulation retained more dead cells)."
   ]
  },
  {
   "cell_type": "markdown",
   "id": "47",
   "metadata": {},
   "source": [
    "### j Distribution"
   ]
  },
  {
   "cell_type": "markdown",
   "id": "48",
   "metadata": {},
   "source": [
    "The j distribution in this article is to count all initial infection events (not the re-infection). The result is a mapping of j to N, from the first step until a 100% infection. To count the j distribution I added a `stats` attribute in the `Simulation` object and implement the counting of j distribution in the `_step_newinf` method.\n",
    "\n",
    "Data in fig6a were simulated at MOIs 0.1, 1, 2.5, 5, 10, 20, 40 and ICD 1.3e6."
   ]
  },
  {
   "cell_type": "code",
   "execution_count": null,
   "id": "49",
   "metadata": {},
   "outputs": [],
   "source": [
    "sims = dict.fromkeys([0.1, 1, 2.5, 5, 10, 20, 40])\n",
    "\n",
    "for moi in sims.keys():\n",
    "    sim = Simulation(\n",
    "        params=params, \n",
    "        MOI=moi, \n",
    "        timestep=1, \n",
    "        endtime=100, \n",
    "        No_init=1.3e6, \n",
    "        S_init=13\n",
    "    )\n",
    "    sim.run()\n",
    "    sims[moi] = sim"
   ]
  },
  {
   "cell_type": "code",
   "execution_count": null,
   "id": "50",
   "metadata": {},
   "outputs": [],
   "source": [
    "j_distr_freq = pd.DataFrame(\n",
    "    {moi: sim.stats[\"j_distr_newinf\"] for moi, sim in sims.items()}\n",
    ").sort_index()\n",
    "j_distr_log10 = j_distr_freq.map(lambda v: 0 if v<1 else np.log10(v))\n",
    "j_distr_freq /= j_distr_freq.sum()"
   ]
  },
  {
   "cell_type": "code",
   "execution_count": null,
   "id": "51",
   "metadata": {},
   "outputs": [],
   "source": [
    "fig, axs = plt.subplots(1, 3, figsize=(15, 5))\n",
    "axs[0].plot(j_distr_log10[[0.1, 1, 10, 20, 40]])\n",
    "axs[0].legend([0.1, 1, 10, 20, 40])\n",
    "axs[0].set_ylim(1, 7)\n",
    "axs[0].set_yticks(ticks=range(1, 8), labels=[f\"1E+{i}\" for i in range(1, 8)])\n",
    "axs[0].set_xlim(1, 300)\n",
    "axs[0].set_title(\"infected cell conc. by j\")\n",
    "\n",
    "axs[1].plot(j_distr_freq[[0.1, 10, 20, 40]])\n",
    "axs[1].legend([0.1, 10, 20, 40])\n",
    "axs[1].set_ylim(0, 1)\n",
    "axs[1].set_xlim(1, 7)\n",
    "axs[1].set_title(\"frac of infected cells by j\")\n",
    "\n",
    "axs[2].plot(j_distr_log10[[0.1, 1, 2.5, 5]])\n",
    "axs[2].legend([0.1, 1, 2.5, 5])\n",
    "axs[2].set_ylim(1, 7)\n",
    "axs[2].set_yticks(ticks=range(1, 8), labels=[f\"1E+{i}\" for i in range(1, 8)])\n",
    "axs[2].set_xlim(1, 10)\n",
    "axs[2].set_title(\"infected cell conc. by j\")"
   ]
  },
  {
   "cell_type": "markdown",
   "id": "52",
   "metadata": {},
   "source": [
    "Fig6a and panel 1 have similar trend for MOI 40, 20, and 10. However, MOI 0.1 and 1 are different. MOI 20 has similar shape but different peak position.  \n",
    "Fig6b and panel 2 are quite similar.  \n",
    "Fig6c and panel 3 are different."
   ]
  },
  {
   "cell_type": "markdown",
   "id": "53",
   "metadata": {
    "jp-MarkdownHeadingCollapsed": true
   },
   "source": [
    "# Remaining issues\n",
    "\n",
    "* Whether to round the cell / virus\n",
    "* Deal with the close to 0 numbers\n",
    "* Visualization module"
   ]
  }
 ],
 "metadata": {
  "kernelspec": {
   "display_name": "Python 3 (ipykernel)",
   "language": "python",
   "name": "python3"
  },
  "language_info": {
   "codemirror_mode": {
    "name": "ipython",
    "version": 3
   },
   "file_extension": ".py",
   "mimetype": "text/x-python",
   "name": "python",
   "nbconvert_exporter": "python",
   "pygments_lexer": "ipython3",
   "version": "3.10.10"
  }
 },
 "nbformat": 4,
 "nbformat_minor": 5
}
