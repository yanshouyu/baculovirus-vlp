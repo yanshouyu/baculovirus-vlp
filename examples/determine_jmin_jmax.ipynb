{
 "cells": [
  {
   "cell_type": "markdown",
   "id": "0",
   "metadata": {},
   "source": [
    "In the article by Hu & Bentley 2000, the authors defined $j$ as the number of virions infecting a cell. The infection probability was described by a Poisson distribution:\n",
    "\n",
    "$P(t, j) = \\frac{exp(-dynMOI) \\times dynMOI^j}{j!}$\n",
    "\n",
    "To simplify calculation, the authors proposed setting a range of $j$ by covering 99% of possible infection events. However, the authors didn't provide the method of defining the range. Here I'm going to implement the range calculation. Use the `scipy.stats.poisson` for cumulative distribution function (CDF) and probability mass function (pmf) of Poission distribution. "
   ]
  },
  {
   "cell_type": "code",
   "execution_count": null,
   "id": "1",
   "metadata": {},
   "outputs": [],
   "source": [
    "import numpy as np\n",
    "import pandas as pd\n",
    "import matplotlib.pyplot as plt\n",
    "from scipy.stats import poisson"
   ]
  },
  {
   "cell_type": "code",
   "execution_count": null,
   "id": "2",
   "metadata": {},
   "outputs": [],
   "source": [
    "dynMOI_range = (0.04*0.1, 500)\n",
    "dynMOI_range"
   ]
  },
  {
   "cell_type": "code",
   "execution_count": null,
   "id": "3",
   "metadata": {},
   "outputs": [],
   "source": [
    "def j_range_poisson(mu, pct=0.99):\n",
    "    \"\"\"\n",
    "    Find the shortest closed intervel [jmin, jmax] that covers \n",
    "    >= pct events in a poisson distribution defined by mu.\n",
    "    \"\"\"\n",
    "    # set range, calculate cdf and pmf\n",
    "    span = round(mu+1)*2 + 1\n",
    "    assert poisson.cdf(span-1, mu) > pct\n",
    "    \n",
    "    # 2 pointers, beginning with round(mu)\n",
    "    pmf = poisson.pmf(range(0, span), mu)\n",
    "    jmin = jmax = round(mu)\n",
    "    cur_pct = sum(pmf[jmin:(jmax+1)])\n",
    "    while (\n",
    "        cur_pct <= pct\n",
    "        and jmin >= 0\n",
    "        and jmax <= span-1\n",
    "    ):\n",
    "        if pmf[jmin-1] >= pmf[jmax+1]:\n",
    "            cur_pct += pmf[jmin-1]\n",
    "            jmin -= 1\n",
    "        else:\n",
    "            cur_pct += pmf[jmax+1]\n",
    "            jmax += 1\n",
    "\n",
    "    if jmin == -1:    # reaches left most\n",
    "        jmin = 0\n",
    "        while (cur_pct <= pct) and (jmax < span-1):\n",
    "            jmax += 1\n",
    "            cur_pct += pmf[jmax]\n",
    "    if jmax == span:    # reaches right most\n",
    "        jmax = span-1\n",
    "        while (cur_pct <= pct) and (jmin > 0):\n",
    "            jmin -= 1\n",
    "            cur_pct += pmf[jmin]\n",
    "    return jmin, jmax"
   ]
  },
  {
   "cell_type": "markdown",
   "id": "4",
   "metadata": {},
   "source": [
    "Compare with the empirical linear range used in `baculo_vlp` module."
   ]
  },
  {
   "cell_type": "code",
   "execution_count": null,
   "id": "5",
   "metadata": {},
   "outputs": [],
   "source": [
    "def jmin_jmax(alpha: float, V1: float, N: float):\n",
    "    \"\"\"Upper and lower bound of infecting virus number j.\n",
    "    Args:\n",
    "        alpha:\n",
    "        V1:\n",
    "        N:\n",
    "    \"\"\"\n",
    "    # extreme cases: no virus or no cells\n",
    "    if V1 == 0 or int(N) == 0:\n",
    "        return 0, 0\n",
    "    \n",
    "    dynMOI = alpha * V1 / N\n",
    "    # jmin\n",
    "    if dynMOI < 20:\n",
    "        jmin = 0\n",
    "    elif dynMOI >= 20 and dynMOI < 480:\n",
    "        jmin = round(dynMOI - 20)\n",
    "    else:\n",
    "        jmin = 460\n",
    "    \n",
    "    # jmax\n",
    "    if dynMOI < 2.5:\n",
    "        jmax = 6\n",
    "    elif dynMOI >= 2.5 and dynMOI < 5:\n",
    "        jmax = 12\n",
    "    elif dynMOI >= 5 and dynMOI < 480:\n",
    "        jmax = round(dynMOI + 20)\n",
    "    else:\n",
    "        jmax = 500\n",
    "\n",
    "    return jmin, jmax"
   ]
  },
  {
   "cell_type": "code",
   "execution_count": null,
   "id": "6",
   "metadata": {},
   "outputs": [],
   "source": [
    "from functools import partial\n",
    "\n",
    "j_range_emp = partial(jmin_jmax, alpha=1, N=1)"
   ]
  },
  {
   "cell_type": "markdown",
   "id": "7",
   "metadata": {},
   "source": [
    "Since an insect cell has a maximum of 11,000 virus receptors, and the $alpha$ is 0.04 or 0.08, it is reasonable to assume the dynMOI bigger than ~500 doesn't make a difference."
   ]
  },
  {
   "cell_type": "code",
   "execution_count": null,
   "id": "8",
   "metadata": {},
   "outputs": [],
   "source": [
    "from itertools import chain, product"
   ]
  },
  {
   "cell_type": "code",
   "execution_count": null,
   "id": "9",
   "metadata": {},
   "outputs": [],
   "source": [
    "dynMOIs = list(chain(\n",
    "    [0.004, 0.1, 0.5, 1], \n",
    "    range(2, 11, 2), \n",
    "    range(20, 100, 10), \n",
    "    range(100, 600, 100)\n",
    "))\n",
    "df = pd.DataFrame(\n",
    "    index=dynMOIs, \n",
    "    columns=[\n",
    "        \"_\".join(tup) for tup in product(\n",
    "            (\"stat\", \"emp\"), (\"jmin\", \"jmax\")\n",
    "        )\n",
    "    ])"
   ]
  },
  {
   "cell_type": "code",
   "execution_count": null,
   "id": "10",
   "metadata": {},
   "outputs": [],
   "source": [
    "for dynmoi in dynMOIs:\n",
    "    (\n",
    "        df.loc[dynmoi, \"stat_jmin\"], \n",
    "        df.loc[dynmoi, \"stat_jmax\"]\n",
    "    ) = j_range_poisson(dynmoi)\n",
    "    (\n",
    "        df.loc[dynmoi, \"emp_jmin\"], \n",
    "        df.loc[dynmoi, \"emp_jmax\"]\n",
    "    ) = j_range_emp(V1=dynmoi)"
   ]
  },
  {
   "cell_type": "code",
   "execution_count": null,
   "id": "11",
   "metadata": {},
   "outputs": [],
   "source": [
    "plt.plot(df[\"stat_jmin\"].reset_index(drop=True), color=\"blue\", linestyle=\"-\")\n",
    "plt.plot(df[\"stat_jmax\"].reset_index(drop=True), color=\"blue\", linestyle=\"-\")\n",
    "plt.plot(df[\"emp_jmin\"].reset_index(drop=True), color=\"grey\", linestyle=\"--\")\n",
    "plt.plot(df[\"emp_jmax\"].reset_index(drop=True), color=\"grey\", linestyle=\"--\")\n",
    "plt.xticks(range(0, df.shape[0]), df.index, rotation=45)\n",
    "plt.legend(df.columns)\n",
    "plt.xlabel(\"dynMOI\")\n",
    "plt.ylabel(\"j\")"
   ]
  },
  {
   "cell_type": "markdown",
   "id": "12",
   "metadata": {},
   "source": [
    "For dynMOI at 4.0~60 range, the empirical range of j is wider than statistical. However, for dynMOI > 100, the statistical range is wider, which means our empirical j range is not sufficient."
   ]
  },
  {
   "cell_type": "code",
   "execution_count": null,
   "id": "13",
   "metadata": {},
   "outputs": [],
   "source": [
    "def j_range_newemp(dynmoi):\n",
    "    if dynmoi < 1:\n",
    "        return 0, 4\n",
    "    elif dynmoi < 10:\n",
    "        return 0, round(dynmoi+1)*2\n",
    "    elif dynmoi < 60:\n",
    "        return max(0, round(dynmoi - 20)), round(dynmoi + 20)\n",
    "    elif dynmoi < 500:\n",
    "        rad = 0.1*dynmoi + 16\n",
    "        return round(dynmoi - rad), round(dynmoi + rad)\n",
    "    else:\n",
    "        return 440, 560"
   ]
  },
  {
   "cell_type": "code",
   "execution_count": null,
   "id": "14",
   "metadata": {},
   "outputs": [],
   "source": [
    "df[[\"newemp_jmin\", \"newemp_jmax\"]] = [\n",
    "    j_range_newemp(dynmoi) for dynmoi in dynMOIs\n",
    "]"
   ]
  },
  {
   "cell_type": "code",
   "execution_count": null,
   "id": "15",
   "metadata": {},
   "outputs": [],
   "source": [
    "plt.plot(df[\"stat_jmin\"].reset_index(drop=True), color=\"blue\", linestyle=\"-\")\n",
    "plt.plot(df[\"stat_jmax\"].reset_index(drop=True), color=\"blue\", linestyle=\"-\")\n",
    "plt.plot(df[\"newemp_jmin\"].reset_index(drop=True), color=\"grey\", linestyle=\"--\")\n",
    "plt.plot(df[\"newemp_jmax\"].reset_index(drop=True), color=\"grey\", linestyle=\"--\")\n",
    "plt.xticks(range(0, df.shape[0]), df.index, rotation=45)\n",
    "plt.legend([\"stat_jmin\", \"stat_jmax\", \"newemp_jmin\", \"newemp_jmax\"])\n",
    "plt.xlabel(\"dynMOI\")\n",
    "plt.ylabel(\"j\")"
   ]
  },
  {
   "cell_type": "markdown",
   "id": "16",
   "metadata": {},
   "source": [
    "This one is more similar to statistical deduction. When using the new j range, much of the authors' conclusions are not changed but the calculation became a little bit slower (since the range is wider than before). \n",
    "\n",
    "Note:  \n",
    "The **upper limit of j** does play a very important role in making the simulation speed reasonable. "
   ]
  }
 ],
 "metadata": {
  "kernelspec": {
   "display_name": "Python 3 (ipykernel)",
   "language": "python",
   "name": "python3"
  },
  "language_info": {
   "codemirror_mode": {
    "name": "ipython",
    "version": 3
   },
   "file_extension": ".py",
   "mimetype": "text/x-python",
   "name": "python",
   "nbconvert_exporter": "python",
   "pygments_lexer": "ipython3",
   "version": "3.10.10"
  }
 },
 "nbformat": 4,
 "nbformat_minor": 5
}
